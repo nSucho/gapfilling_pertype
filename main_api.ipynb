{
 "cells": [
  {
   "cell_type": "markdown",
   "source": [
    "# Main to Process the ENTSO-E data\n",
    "This file links all the necessary processes to download data from ENTSO-E's Transparency Platform, put it in a suitable form and then fill the existing gaps.\n",
    "Complete Guide of the API can be found [here](https://transparency.entsoe.eu/content/static_content/Static%20content/web%20api/Guide.html) or for the client used for the download [here](https://github.com/EnergieID/entsoe-py)"
   ],
   "metadata": {
    "collapsed": false
   }
  },
  {
   "cell_type": "markdown",
   "source": [
    "## Setup"
   ],
   "metadata": {
    "collapsed": false
   }
  },
  {
   "cell_type": "code",
   "execution_count": 1,
   "outputs": [
    {
     "name": "stderr",
     "output_type": "stream",
     "text": [
      "/home/mondro/Documents/uni/info/s10_ss22/bachelor_thesis/gapfilling_pertype/venv/lib/python3.8/site-packages/fedot/utilities/requirements_notificator.py:13: UserWarning: \"opencv-python\" is not installed, use \"pip install .[extra]\" to fulfil or ignore this warning\n",
      "  warnings.warn(f'{msg} or ignore this warning')\n"
     ]
    }
   ],
   "source": [
    "from download_data import download_files\n",
    "from gap_filling import gapfill_main\n",
    "import pandas as pd"
   ],
   "metadata": {
    "collapsed": false
   }
  },
  {
   "cell_type": "markdown",
   "source": [
    "## Download the data\n",
    "Here the required data is specified and then downloaded."
   ],
   "metadata": {
    "collapsed": false
   }
  },
  {
   "cell_type": "code",
   "execution_count": 2,
   "outputs": [],
   "source": [
    "# personal security token, needed to connect to entso-e api\n",
    "token = '45b3f307-303e-4ddb-bdcc-138cae53cc63'\n",
    "# right now only 'agpt' and 'totalload' is working\n",
    "data_type = 'totalload'\n",
    "# year the data should be from\n",
    "year = 2021\n",
    "# time in which the data should be (e.g. 'WET', 'CET' or 'EET'); has to match with country (so GB -> WET) else inserting of the missing values goes wrong\n",
    "timezone = 'WET'\n",
    "# list with all the countries which should be downloaded\n",
    "countries = ['CY', 'BA']\n",
    "for country_code in countries:\n",
    "    download_files(token=token, data_type=data_type, year=year, timezone=timezone, country_code=country_code)"
   ],
   "metadata": {
    "collapsed": false
   }
  },
  {
   "cell_type": "markdown",
   "source": [
    "## Gap-filling\n",
    "Now first important variables for the gap-filling are defined and then the gap-filling is initialized"
   ],
   "metadata": {
    "collapsed": false
   }
  },
  {
   "cell_type": "markdown",
   "source": [
    "### Setup important variables"
   ],
   "metadata": {
    "collapsed": false
   }
  },
  {
   "cell_type": "code",
   "execution_count": 3,
   "outputs": [],
   "source": [
    "technologies = pd.read_csv('technology_list.csv', sep='\\t', encoding='utf-8')\n",
    "# set data origin to api, not sftp\n",
    "origin_api = True\n",
    "# set area type code\n",
    "atc = 'BZN'\n",
    "# set the size of the sliding window for FEDOT and the amount of gaps which should be inserted in 'create_gaps'\n",
    "fedot_window = 100\n",
    "\n",
    "# if 'create_gaps = True' there will be random gaps inserted into the data\n",
    "# if 'duplicate_gaps = True' the gaps from different file will be inserted into the data\n",
    "# one of both should be 'False'!\n",
    "create_gaps = False\n",
    "duplicate_gaps = False\n",
    "\n",
    "# Amount of gaps which should be inserted (can be ignored if \"create_gaps = False\")\n",
    "# 0.1 = 10% of the available data should be gaps\n",
    "amount_gaps = 0.2041\n",
    "\n",
    "# country which the gaps should be duplicated from (can be ignored if \"duplicate_gaps = False\")\n",
    "copy_code = 'NIE'\n",
    "copy_atc = 'CTA'\n",
    "copy_tech = 'Wind Onshore'"
   ],
   "metadata": {
    "collapsed": false
   }
  },
  {
   "cell_type": "markdown",
   "source": [
    "### Start the gap-filling"
   ],
   "metadata": {
    "collapsed": false
   }
  },
  {
   "cell_type": "code",
   "execution_count": 4,
   "outputs": [
    {
     "name": "stderr",
     "output_type": "stream",
     "text": [
      "/home/mondro/Documents/uni/info/s10_ss22/bachelor_thesis/gapfilling_pertype/venv/lib/python3.8/site-packages/pkg_resources/__init__.py:116: PkgResourcesDeprecationWarning: 0.1.43ubuntu1 is an invalid version and will not be supported in a future release\n",
      "  warnings.warn(\n",
      "/home/mondro/Documents/uni/info/s10_ss22/bachelor_thesis/gapfilling_pertype/venv/lib/python3.8/site-packages/pkg_resources/__init__.py:116: PkgResourcesDeprecationWarning: 1.1build1 is an invalid version and will not be supported in a future release\n",
      "  warnings.warn(\n",
      "2022-09-10 14:36:29.420719: W tensorflow/stream_executor/platform/default/dso_loader.cc:64] Could not load dynamic library 'libcudart.so.11.0'; dlerror: libcudart.so.11.0: cannot open shared object file: No such file or directory\n",
      "2022-09-10 14:36:29.420741: I tensorflow/stream_executor/cuda/cudart_stub.cc:29] Ignore above cudart dlerror if you do not have a GPU set up on your machine.\n"
     ]
    },
    {
     "name": "stdout",
     "output_type": "stream",
     "text": [
      "2022-09-10 14:36:30,994 - ModelGapFiller - Array does not contain values marked as gaps -100.0\n"
     ]
    },
    {
     "name": "stderr",
     "output_type": "stream",
     "text": [
      "INFO:default:ModelGapFiller - Array does not contain values marked as gaps -100.0\n"
     ]
    },
    {
     "name": "stdout",
     "output_type": "stream",
     "text": [
      "2022-09-10 14:36:30,995 - ModelGapFiller - Array does not contain values marked as gaps -100.0\n"
     ]
    },
    {
     "name": "stderr",
     "output_type": "stream",
     "text": [
      "INFO:default:ModelGapFiller - Array does not contain values marked as gaps -100.0\n"
     ]
    },
    {
     "name": "stdout",
     "output_type": "stream",
     "text": [
      "Time needed for the program = 0:0:2\n",
      "2022-09-10 14:36:31,145 - ModelGapFiller - Array does not contain values marked as gaps -100.0\n"
     ]
    },
    {
     "name": "stderr",
     "output_type": "stream",
     "text": [
      "INFO:default:ModelGapFiller - Array does not contain values marked as gaps -100.0\n"
     ]
    },
    {
     "name": "stdout",
     "output_type": "stream",
     "text": [
      "2022-09-10 14:36:31,147 - ModelGapFiller - Array does not contain values marked as gaps -100.0\n"
     ]
    },
    {
     "name": "stderr",
     "output_type": "stream",
     "text": [
      "INFO:default:ModelGapFiller - Array does not contain values marked as gaps -100.0\n"
     ]
    },
    {
     "name": "stdout",
     "output_type": "stream",
     "text": [
      "Time needed for the program = 0:0:0\n"
     ]
    }
   ],
   "source": [],
   "metadata": {
    "collapsed": false
   }
  }
 ],
 "metadata": {
  "kernelspec": {
   "display_name": "Python 3",
   "language": "python",
   "name": "python3"
  },
  "language_info": {
   "codemirror_mode": {
    "name": "ipython",
    "version": 2
   },
   "file_extension": ".py",
   "mimetype": "text/x-python",
   "name": "python",
   "nbconvert_exporter": "python",
   "pygments_lexer": "ipython2",
   "version": "2.7.6"
  }
 },
 "nbformat": 4,
 "nbformat_minor": 0
}
