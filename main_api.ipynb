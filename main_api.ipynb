{
 "cells": [
  {
   "cell_type": "markdown",
   "source": [
    "# Main to Process the ENTSO-E data\n",
    "This file links all the necessary processes to download data from ENTSO-E's Transparency Platform, put it in a suitable form and then fill the existing gaps.\n",
    "Complete Guide of the API can be found [here](https://transparency.entsoe.eu/content/static_content/Static%20content/web%20api/Guide.html) or for the client used for the download [here](https://github.com/EnergieID/entsoe-py)"
   ],
   "metadata": {
    "collapsed": false
   }
  },
  {
   "cell_type": "markdown",
   "source": [
    "## Setup"
   ],
   "metadata": {
    "collapsed": false
   }
  },
  {
   "cell_type": "code",
   "execution_count": null,
   "outputs": [],
   "source": [
    "from download_data import download_files\n",
    "from gap_filling import gapfill_main\n",
    "import pandas as pd"
   ],
   "metadata": {
    "collapsed": false
   }
  },
  {
   "cell_type": "markdown",
   "source": [
    "## Download the data\n",
    "Here the required data is specified and then downloaded."
   ],
   "metadata": {
    "collapsed": false
   }
  },
  {
   "cell_type": "code",
   "execution_count": null,
   "outputs": [],
   "source": [
    "# personal security token, needed to connect to entso-e api\n",
    "token = ''\n",
    "# right now only 'agpt' and 'totalload' is working\n",
    "data_type = 'totalload'\n",
    "# year the data should be from\n",
    "year = 2021\n",
    "# time in which the data should be (e.g. 'WET', 'CET' or 'EET'); has to match with country (so GB -> WET) else inserting of the missing values goes wrong\n",
    "timezone = 'WET'\n",
    "# list with all the countries which should be downloaded\n",
    "countries = ['CY', 'BA']\n",
    "for country_code in countries:\n",
    "    download_files(token, data_type, year, timezone, country_code)"
   ],
   "metadata": {
    "collapsed": false
   }
  },
  {
   "cell_type": "markdown",
   "source": [
    "## Gap-filling\n",
    "Now first important variables for the gap-filling are defined and then the gap-filling is initialized"
   ],
   "metadata": {
    "collapsed": false
   }
  },
  {
   "cell_type": "markdown",
   "source": [
    "### Setup important variables"
   ],
   "metadata": {
    "collapsed": false
   }
  },
  {
   "cell_type": "code",
   "execution_count": null,
   "outputs": [],
   "source": [
    "technologies = pd.read_csv('technology_list.csv', sep='\\t', encoding='utf-8')\n",
    "# set data origin to api, not sftp\n",
    "origin_api = True\n",
    "# set area type code\n",
    "atc = 'BZN'\n",
    "# set the size of the sliding window for FEDOT and the amount of gaps which should be inserted in 'create_gaps'\n",
    "fedot_window = 100\n",
    "\n",
    "# if 'create_gaps = True' there will be random gaps inserted into the data\n",
    "# if 'duplicate_gaps = True' the gaps from different file will be inserted into the data\n",
    "# one of both should be 'False'!\n",
    "create_gaps = False\n",
    "duplicate_gaps = False\n",
    "\n",
    "# Amount of gaps which should be inserted (can be ignored if \"create_gaps = False\")\n",
    "# 0.1 = 10% of the available data should be gaps\n",
    "amount_gaps = 0.2041\n",
    "\n",
    "# country which the gaps should be duplicated from (can be ignored if \"duplicate_gaps = False\")\n",
    "copy_code = 'NIE'\n",
    "copy_atc = 'CTA'\n",
    "copy_tech = 'Wind Onshore'"
   ],
   "metadata": {
    "collapsed": false
   }
  },
  {
   "cell_type": "markdown",
   "source": [
    "### Start the gap-filling"
   ],
   "metadata": {
    "collapsed": false
   }
  },
  {
   "cell_type": "code",
   "execution_count": null,
   "outputs": [],
   "source": [],
   "metadata": {
    "collapsed": false
   }
  }
 ],
 "metadata": {
  "kernelspec": {
   "display_name": "Python 3",
   "language": "python",
   "name": "python3"
  },
  "language_info": {
   "codemirror_mode": {
    "name": "ipython",
    "version": 2
   },
   "file_extension": ".py",
   "mimetype": "text/x-python",
   "name": "python",
   "nbconvert_exporter": "python",
   "pygments_lexer": "ipython2",
   "version": "2.7.6"
  }
 },
 "nbformat": 4,
 "nbformat_minor": 0
}
