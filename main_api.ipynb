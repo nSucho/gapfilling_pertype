{
 "cells": [
  {
   "cell_type": "markdown",
   "source": [
    "# Main to Process the ENTSO-E data\n",
    "This file links all the necessary processes to download data from ENTSO-E's Transparency Platform, put it in a suitable form and then fill the existing gaps.\n",
    "Complete Guide of the API can be found [here](https://transparency.entsoe.eu/content/static_content/Static%20content/web%20api/Guide.html) or for the client used for the download [here](https://github.com/EnergieID/entsoe-py)"
   ],
   "metadata": {
    "collapsed": false
   }
  },
  {
   "cell_type": "markdown",
   "source": [
    "## Setup"
   ],
   "metadata": {
    "collapsed": false
   }
  },
  {
   "cell_type": "code",
   "execution_count": 1,
   "outputs": [
    {
     "name": "stderr",
     "output_type": "stream",
     "text": [
      "/home/mondro/Documents/uni/info/s10_ss22/bachelor_thesis/gapfilling_pertype/venv/lib/python3.8/site-packages/fedot/utilities/requirements_notificator.py:13: UserWarning: \"opencv-python\" is not installed, use \"pip install .[extra]\" to fulfil or ignore this warning\n",
      "  warnings.warn(f'{msg} or ignore this warning')\n"
     ]
    }
   ],
   "source": [
    "from download_data import download_files\n",
    "from gap_filling import gapfill_main\n",
    "import pandas as pd"
   ],
   "metadata": {
    "collapsed": false
   }
  },
  {
   "cell_type": "markdown",
   "source": [
    "## Download the data\n",
    "Here the required data is specified and then downloaded."
   ],
   "metadata": {
    "collapsed": false
   }
  },
  {
   "cell_type": "code",
   "execution_count": 2,
   "outputs": [
    {
     "ename": "NameError",
     "evalue": "name 'data_type' is not defined",
     "output_type": "error",
     "traceback": [
      "\u001B[0;31m---------------------------------------------------------------------------\u001B[0m",
      "\u001B[0;31mNameError\u001B[0m                                 Traceback (most recent call last)",
      "Input \u001B[0;32mIn [2]\u001B[0m, in \u001B[0;36m<cell line: 11>\u001B[0;34m()\u001B[0m\n\u001B[1;32m     10\u001B[0m countries \u001B[38;5;241m=\u001B[39m [\u001B[38;5;124m'\u001B[39m\u001B[38;5;124mCY\u001B[39m\u001B[38;5;124m'\u001B[39m, \u001B[38;5;124m'\u001B[39m\u001B[38;5;124mBA\u001B[39m\u001B[38;5;124m'\u001B[39m]\n\u001B[1;32m     11\u001B[0m \u001B[38;5;28;01mfor\u001B[39;00m country_code \u001B[38;5;129;01min\u001B[39;00m countries:\n\u001B[0;32m---> 12\u001B[0m     \u001B[43mdownload_files\u001B[49m\u001B[43m(\u001B[49m\u001B[43mtoken\u001B[49m\u001B[38;5;241;43m=\u001B[39;49m\u001B[43mtoken\u001B[49m\u001B[43m,\u001B[49m\u001B[43m \u001B[49m\u001B[43mdata_type\u001B[49m\u001B[38;5;241;43m=\u001B[39;49m\u001B[43mdata_type\u001B[49m\u001B[43m,\u001B[49m\u001B[43m \u001B[49m\u001B[43myear\u001B[49m\u001B[38;5;241;43m=\u001B[39;49m\u001B[43myear\u001B[49m\u001B[43m,\u001B[49m\u001B[43m \u001B[49m\u001B[43mtimezone\u001B[49m\u001B[38;5;241;43m=\u001B[39;49m\u001B[43mtimezone\u001B[49m\u001B[43m,\u001B[49m\u001B[43m \u001B[49m\u001B[43mcountry_code\u001B[49m\u001B[38;5;241;43m=\u001B[39;49m\u001B[43mcountry_code\u001B[49m\u001B[43m)\u001B[49m\n",
      "File \u001B[0;32m~/Documents/uni/info/s10_ss22/bachelor_thesis/gapfilling_pertype/download_data.py:87\u001B[0m, in \u001B[0;36mdownload_files\u001B[0;34m(token, data_type, year, timezone, country_code)\u001B[0m\n\u001B[1;32m     85\u001B[0m \u001B[38;5;66;03m# save the file\u001B[39;00m\n\u001B[1;32m     86\u001B[0m header \u001B[38;5;241m=\u001B[39m [\u001B[38;5;124m'\u001B[39m\u001B[38;5;124mDateTime\u001B[39m\u001B[38;5;124m'\u001B[39m, \u001B[38;5;124m'\u001B[39m\u001B[38;5;124mAreaTypeCode\u001B[39m\u001B[38;5;124m'\u001B[39m, \u001B[38;5;124m'\u001B[39m\u001B[38;5;124mMapCode\u001B[39m\u001B[38;5;124m'\u001B[39m, \u001B[38;5;124m'\u001B[39m\u001B[38;5;124mTotalLoadValue\u001B[39m\u001B[38;5;124m'\u001B[39m]\n\u001B[0;32m---> 87\u001B[0m \u001B[43mcheckforgaps_api\u001B[49m\u001B[43m(\u001B[49m\u001B[43mdf\u001B[49m\u001B[43m,\u001B[49m\u001B[43m \u001B[49m\u001B[43matc\u001B[49m\u001B[43m,\u001B[49m\u001B[43m \u001B[49m\u001B[43mcountry_code\u001B[49m\u001B[43m,\u001B[49m\u001B[43m \u001B[49m\u001B[43mtech\u001B[49m\u001B[43m,\u001B[49m\u001B[43m \u001B[49m\u001B[43myear\u001B[49m\u001B[43m,\u001B[49m\u001B[43m \u001B[49m\u001B[43mval_col\u001B[49m\u001B[43m,\u001B[49m\u001B[43m \u001B[49m\u001B[43mheader\u001B[49m\u001B[43m,\u001B[49m\u001B[43m \u001B[49m\u001B[43mdata_type\u001B[49m\u001B[43m)\u001B[49m\n",
      "File \u001B[0;32m~/Documents/uni/info/s10_ss22/bachelor_thesis/gapfilling_pertype/download_data.py:151\u001B[0m, in \u001B[0;36mcheckforgaps_api\u001B[0;34m(file_df_original, areatypecode, country, technology, year, val_col, header, datatype)\u001B[0m\n\u001B[1;32m    137\u001B[0m \u001B[38;5;28;01mdef\u001B[39;00m \u001B[38;5;21mcheckforgaps_api\u001B[39m(file_df_original, areatypecode, country, technology, year, val_col, header,\n\u001B[1;32m    138\u001B[0m                      datatype):\n\u001B[1;32m    139\u001B[0m     \u001B[38;5;124;03m\"\"\"\u001B[39;00m\n\u001B[1;32m    140\u001B[0m \n\u001B[1;32m    141\u001B[0m \u001B[38;5;124;03m    :param file_df_original:\u001B[39;00m\n\u001B[0;32m   (...)\u001B[0m\n\u001B[1;32m    149\u001B[0m \u001B[38;5;124;03m    :return:\u001B[39;00m\n\u001B[1;32m    150\u001B[0m \u001B[38;5;124;03m    \"\"\"\u001B[39;00m\n\u001B[0;32m--> 151\u001B[0m     path \u001B[38;5;241m=\u001B[39m \u001B[38;5;124m'\u001B[39m\u001B[38;5;124mdata/\u001B[39m\u001B[38;5;124m'\u001B[39m \u001B[38;5;241m+\u001B[39m \u001B[43mdata_type\u001B[49m \u001B[38;5;241m+\u001B[39m \u001B[38;5;124m'\u001B[39m\u001B[38;5;124m/api_data/\u001B[39m\u001B[38;5;124m'\u001B[39m \u001B[38;5;241m+\u001B[39m \u001B[38;5;28mstr\u001B[39m(year) \u001B[38;5;241m+\u001B[39m \u001B[38;5;124m'\u001B[39m\u001B[38;5;124m/\u001B[39m\u001B[38;5;124m'\u001B[39m \u001B[38;5;241m+\u001B[39m country_code\n\u001B[1;32m    152\u001B[0m     create_path(path \u001B[38;5;241m+\u001B[39m \u001B[38;5;124m'\u001B[39m\u001B[38;5;124m/rawdata_sorted\u001B[39m\u001B[38;5;124m'\u001B[39m)\n\u001B[1;32m    153\u001B[0m     create_path(path \u001B[38;5;241m+\u001B[39m \u001B[38;5;124m'\u001B[39m\u001B[38;5;124m/final_sorted\u001B[39m\u001B[38;5;124m'\u001B[39m)\n",
      "\u001B[0;31mNameError\u001B[0m: name 'data_type' is not defined"
     ]
    }
   ],
   "source": [
    "# personal security token, needed to connect to entso-e api\n",
    "token = '45b3f307-303e-4ddb-bdcc-138cae53cc63'\n",
    "# right now only 'agpt' and 'totalload' is working\n",
    "data_type = 'totalload'\n",
    "# year the data should be from\n",
    "year = 2021\n",
    "# time in which the data should be (e.g. 'WET', 'CET' or 'EET'); has to match with country (so GB -> WET) else inserting of the missing values goes wrong\n",
    "timezone = 'WET'\n",
    "# list with all the countries which should be downloaded\n",
    "countries = ['CY', 'BA']\n",
    "for country_code in countries:\n",
    "    download_files(token=token, data_type=data_type, year=year, timezone=timezone, country_code=country_code)"
   ],
   "metadata": {
    "collapsed": false
   }
  },
  {
   "cell_type": "markdown",
   "source": [
    "## Gap-filling\n",
    "Now first important variables for the gap-filling are defined and then the gap-filling is initialized"
   ],
   "metadata": {
    "collapsed": false
   }
  },
  {
   "cell_type": "markdown",
   "source": [
    "### Setup important variables"
   ],
   "metadata": {
    "collapsed": false
   }
  },
  {
   "cell_type": "code",
   "execution_count": null,
   "outputs": [],
   "source": [
    "technologies = pd.read_csv('technology_list.csv', sep='\\t', encoding='utf-8')\n",
    "# set data origin to api, not sftp\n",
    "origin_api = True\n",
    "# set area type code\n",
    "atc = 'BZN'\n",
    "# set the size of the sliding window for FEDOT and the amount of gaps which should be inserted in 'create_gaps'\n",
    "fedot_window = 100\n",
    "\n",
    "# if 'create_gaps = True' there will be random gaps inserted into the data\n",
    "# if 'duplicate_gaps = True' the gaps from different file will be inserted into the data\n",
    "# one of both should be 'False'!\n",
    "create_gaps = False\n",
    "duplicate_gaps = False\n",
    "\n",
    "# Amount of gaps which should be inserted (can be ignored if \"create_gaps = False\")\n",
    "# 0.1 = 10% of the available data should be gaps\n",
    "amount_gaps = 0.2041\n",
    "\n",
    "# country which the gaps should be duplicated from (can be ignored if \"duplicate_gaps = False\")\n",
    "copy_code = 'NIE'\n",
    "copy_atc = 'CTA'\n",
    "copy_tech = 'Wind Onshore'"
   ],
   "metadata": {
    "collapsed": false
   }
  },
  {
   "cell_type": "markdown",
   "source": [
    "### Start the gap-filling"
   ],
   "metadata": {
    "collapsed": false
   }
  },
  {
   "cell_type": "code",
   "execution_count": null,
   "outputs": [],
   "source": [],
   "metadata": {
    "collapsed": false
   }
  }
 ],
 "metadata": {
  "kernelspec": {
   "display_name": "Python 3",
   "language": "python",
   "name": "python3"
  },
  "language_info": {
   "codemirror_mode": {
    "name": "ipython",
    "version": 2
   },
   "file_extension": ".py",
   "mimetype": "text/x-python",
   "name": "python",
   "nbconvert_exporter": "python",
   "pygments_lexer": "ipython2",
   "version": "2.7.6"
  }
 },
 "nbformat": 4,
 "nbformat_minor": 0
}
